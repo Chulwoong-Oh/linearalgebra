{
 "cells": [
  {
   "cell_type": "code",
   "execution_count": 284,
   "id": "9c0e5fd4-c7c7-4062-95cf-425870f2a439",
   "metadata": {
    "tags": []
   },
   "outputs": [],
   "source": [
    "import numpy as np\n",
    "import pandas as pd\n",
    "import matplotlib.pyplot as plt\n",
    "# from Library.ocw_r1 import ocw_r1\n",
    "import imp\n",
    "import Library.ocw_r1 as ocw_r1\n",
    "imp.reload(Library.ocw_r1)\n",
    "\n",
    "import sys\n",
    "np.set_printoptions(threshold = sys.maxsize)\n",
    "np.set_printoptions(linewidth = 80)"
   ]
  },
  {
   "cell_type": "code",
   "execution_count": 210,
   "id": "2a8f3475-82d4-410a-92ce-7453616fd50f",
   "metadata": {
    "collapsed": true,
    "jupyter": {
     "outputs_hidden": true
    }
   },
   "outputs": [
    {
     "data": {
      "text/plain": [
       "2"
      ]
     },
     "execution_count": 210,
     "metadata": {},
     "output_type": "execute_result"
    }
   ],
   "source": [
    "np.linspace(0,10,11)\n",
    "np.arange(1, 10, 3)\n",
    "np.random.random(4)\n",
    "A = np.arange(1,4)\n",
    "type(A[0])\n",
    "A.shape\n",
    "B = np.arange(1, 7).reshape(2,3)\n",
    "B.ndim\n",
    "B.shape\n",
    "C = np.arange(1, 10001).reshape(100,100)\n",
    "C.ndim"
   ]
  },
  {
   "cell_type": "code",
   "execution_count": 211,
   "id": "685f5751-3370-49b3-8d07-5158b2c6b967",
   "metadata": {
    "collapsed": true,
    "jupyter": {
     "outputs_hidden": true
    }
   },
   "outputs": [
    {
     "data": {
      "text/plain": [
       "0.8897568000102183"
      ]
     },
     "execution_count": 211,
     "metadata": {},
     "output_type": "execute_result"
    }
   ],
   "source": [
    "import timeit\n",
    "timeit.timeit('[i**2 for i in A]', setup = 'A=range(100)')\n",
    "timeit.timeit('B**2', setup='import numpy as np; B = np.arange(100)')"
   ]
  },
  {
   "cell_type": "code",
   "execution_count": 212,
   "id": "a6a6f4a8-fb40-4b70-af33-d931a51a715e",
   "metadata": {
    "collapsed": true,
    "jupyter": {
     "outputs_hidden": true
    }
   },
   "outputs": [],
   "source": [
    "D = np.random.random((3,3))\n",
    "D\n",
    "E = np.random.randint(1, 10, (2,2))\n",
    "E\n",
    "A = np.arange(16)\n",
    "B = A.reshape(4,4)\n",
    "B\n",
    "B.shape\n",
    "B.base\n",
    "A = np.arange(1, 5).reshape(2, -1)\n",
    "A\n",
    "A.shape\n",
    "B = A.ravel()\n",
    "B\n",
    "B.shape\n",
    "B.base is A\n",
    "B.base\n",
    "A = np.arange(1,5).reshape(2,2)\n",
    "B = np.arange(5,9).reshape(2,2)\n",
    "A\n",
    "B\n",
    "C = np.vstack((A, B))\n",
    "D = np.hstack((A, B))\n",
    "D\n",
    "a = np.array([4, 3])"
   ]
  },
  {
   "cell_type": "code",
   "execution_count": 213,
   "id": "0cd8cb94-d110-453d-8da9-d5e9916ce815",
   "metadata": {
    "collapsed": true,
    "jupyter": {
     "outputs_hidden": true
    }
   },
   "outputs": [
    {
     "data": {
      "image/png": "[encoded data removed]",
      "text/plain": [
       "<Figure size 432x288 with 1 Axes>"
      ]
     },
     "metadata": {
      "needs_background": "light"
     },
     "output_type": "display_data"
    }
   ],
   "source": [
    "fig = plt.figure()\n",
    "\n",
    "ax = fig.add_subplot(1, 1, 1)\n",
    "ax.scatter(a[0], a[1], s = 30)\n",
    "ax.text(a[0] + 0.2, a[1] + 0.2, 'a', size  = 15)\n",
    "\n",
    "ax.set_xticks(range(-5, 6))\n",
    "ax.set_yticks(range(-5, 6))\n",
    "\n",
    "ax.grid()\n",
    "ax.set_axisbelow(True)\n",
    "\n",
    "ax.set_aspect('equal', adjustable = 'box')\n",
    "\n",
    "ax.spines['left'].set_position('zero')\n",
    "ax.spines['bottom'].set_position('zero')\n",
    "\n",
    "ax.spines['right'].set_color('none')\n",
    "ax.spines['top'].set_color('none')\n",
    "\n",
    "plt.show()"
   ]
  },
  {
   "cell_type": "code",
   "execution_count": 214,
   "id": "39238beb-df9c-40ed-abf9-2748bf5e6f3b",
   "metadata": {
    "collapsed": true,
    "jupyter": {
     "outputs_hidden": true
    }
   },
   "outputs": [
    {
     "data": {
      "image/png": "[encoded data removed]",
      "text/plain": [
       "<Figure size 432x288 with 1 Axes>"
      ]
     },
     "metadata": {
      "needs_background": "light"
     },
     "output_type": "display_data"
    },
    {
     "data": {
      "text/plain": [
       "True"
      ]
     },
     "execution_count": 214,
     "metadata": {},
     "output_type": "execute_result"
    }
   ],
   "source": [
    "ocw_r1.making_scatter([2, 1], [-3, 4], [-3, 4])"
   ]
  },
  {
   "cell_type": "code",
   "execution_count": 215,
   "id": "21e37ee7-f2ee-488d-9889-e2fc229d1f08",
   "metadata": {
    "collapsed": true,
    "jupyter": {
     "outputs_hidden": true
    }
   },
   "outputs": [],
   "source": [
    "a = [5, 5]"
   ]
  },
  {
   "cell_type": "code",
   "execution_count": 216,
   "id": "bf40bbd2-599b-46f1-a240-4346326d5b72",
   "metadata": {
    "collapsed": true,
    "jupyter": {
     "outputs_hidden": true
    }
   },
   "outputs": [
    {
     "data": {
      "image/png": "[encoded data removed]",
      "text/plain": [
       "<Figure size 432x288 with 1 Axes>"
      ]
     },
     "metadata": {
      "needs_background": "light"
     },
     "output_type": "display_data"
    },
    {
     "data": {
      "text/plain": [
       "True"
      ]
     },
     "execution_count": 216,
     "metadata": {},
     "output_type": "execute_result"
    }
   ],
   "source": [
    "ocw_r1.making_scatter_warrow([5, 5], [0, 7], [0, 7])"
   ]
  },
  {
   "cell_type": "code",
   "execution_count": 217,
   "id": "52ad5c5e-c793-4263-a583-4b405825fb90",
   "metadata": {
    "collapsed": true,
    "jupyter": {
     "outputs_hidden": true
    }
   },
   "outputs": [],
   "source": [
    "b = [4, 5, 11]\n",
    "zrange = [0,16]"
   ]
  },
  {
   "cell_type": "code",
   "execution_count": 218,
   "id": "0f6286b6-7d09-4164-9201-ee9fe9fd575e",
   "metadata": {
    "tags": []
   },
   "outputs": [
    {
     "data": {
      "image/png": "[encoded data removed]",
      "text/plain": [
       "<Figure size 432x288 with 1 Axes>"
      ]
     },
     "metadata": {
      "needs_background": "light"
     },
     "output_type": "display_data"
    },
    {
     "data": {
      "text/plain": [
       "True"
      ]
     },
     "execution_count": 218,
     "metadata": {},
     "output_type": "execute_result"
    }
   ],
   "source": [
    "ocw_r1.making_scatter_warrow3d(b, zrange)"
   ]
  },
  {
   "cell_type": "code",
   "execution_count": 219,
   "id": "75361ca5-d68c-40b7-974b-25275978d521",
   "metadata": {
    "collapsed": true,
    "jupyter": {
     "outputs_hidden": true
    }
   },
   "outputs": [],
   "source": [
    "azz = {'a' : [1,2],\n",
    "       'b' : [-2,1],\n",
    "       'c' : [1,1],\n",
    "       'd' : [-2, 0],\n",
    "       'e' : [0,0],}"
   ]
  },
  {
   "cell_type": "code",
   "execution_count": 220,
   "id": "2f9e3420-4d8e-4a5e-b53c-a4c4eae7c9e8",
   "metadata": {
    "collapsed": true,
    "jupyter": {
     "outputs_hidden": true
    }
   },
   "outputs": [
    {
     "name": "stdout",
     "output_type": "stream",
     "text": [
      "a [1, 2]\n",
      "b [-2, 1]\n",
      "c [1, 1]\n",
      "d [-2, 0]\n",
      "e [0, 0]\n"
     ]
    },
    {
     "data": {
      "image/png": "[encoded data removed]",
      "text/plain": [
       "<Figure size 432x288 with 1 Axes>"
      ]
     },
     "metadata": {
      "needs_background": "light"
     },
     "output_type": "display_data"
    },
    {
     "data": {
      "text/plain": [
       "True"
      ]
     },
     "execution_count": 220,
     "metadata": {},
     "output_type": "execute_result"
    }
   ],
   "source": [
    "ocw_r1.making_scatter_warrow_multi(azz, [3,3], [-3, 7], [-3, 7])"
   ]
  },
  {
   "cell_type": "code",
   "execution_count": 271,
   "id": "20106084-56ef-422d-ab51-5a9fe1c88bdd",
   "metadata": {
    "tags": []
   },
   "outputs": [],
   "source": [
    "aza = {'zz' : [1,2],\n",
    "       'yy' : [-2,1],\n",
    "       'kk' : [5,5],\n",
    "       'll' : [4,2],\n",
    "       'ee' : [-5, -10],\n",
    "       'oo' : [5,5],\n",
    "      }"
   ]
  },
  {
   "cell_type": "code",
   "execution_count": 274,
   "id": "97313b10-797e-4f4a-a5de-a04651cfc3f5",
   "metadata": {
    "tags": []
   },
   "outputs": [
    {
     "name": "stdout",
     "output_type": "stream",
     "text": [
      "0 zz 1\n",
      "1 yy -2\n",
      "2 kk 5\n",
      "3 ll 4\n",
      "4 ee -5\n",
      "5 oo 5\n"
     ]
    },
    {
     "data": {
      "image/png": "[encoded data removed]",
      "text/plain": [
       "<Figure size 432x288 with 1 Axes>"
      ]
     },
     "metadata": {
      "needs_background": "light"
     },
     "output_type": "display_data"
    },
    {
     "data": {
      "text/plain": [
       "True"
      ]
     },
     "execution_count": 274,
     "metadata": {},
     "output_type": "execute_result"
    }
   ],
   "source": [
    "ocw_r1.making_scatter_warrow_agg(aza, 'sum', [-3, 15], [-3, 15])"
   ]
  },
  {
   "cell_type": "code",
   "execution_count": 278,
   "id": "1aae24b2-9a74-4c5b-b51e-7e4a8c0dadd6",
   "metadata": {
    "tags": []
   },
   "outputs": [],
   "source": [
    "aza = {'zz' : [3,3],\n",
    "       'yy' : [0,3],}"
   ]
  },
  {
   "cell_type": "code",
   "execution_count": 279,
   "id": "365c3cfe-e2c9-4414-8c26-b6d03a8843fd",
   "metadata": {},
   "outputs": [
    {
     "data": {
      "text/plain": [
       "9"
      ]
     },
     "execution_count": 279,
     "metadata": {},
     "output_type": "execute_result"
    }
   ],
   "source": [
    "np.dot(aza['zz'], aza['yy'])"
   ]
  },
  {
   "cell_type": "code",
   "execution_count": 304,
   "id": "d50ef366-9a0c-4202-82e5-ebea35b6f892",
   "metadata": {
    "tags": []
   },
   "outputs": [],
   "source": [
    "aza = {'zz' : [1,1,1],\n",
    "       'yy' : [3,3,0],}"
   ]
  },
  {
   "cell_type": "code",
   "execution_count": 305,
   "id": "84da4bc0-e931-4884-82ba-9b983db5f17b",
   "metadata": {},
   "outputs": [
    {
     "data": {
      "text/plain": [
       "array([-3,  3,  0])"
      ]
     },
     "execution_count": 305,
     "metadata": {},
     "output_type": "execute_result"
    }
   ],
   "source": [
    "np.cross(aza['zz'], aza['yy'])"
   ]
  },
  {
   "cell_type": "code",
   "execution_count": 306,
   "id": "762f31d3-5692-4042-8aa2-7e9b535a42c6",
   "metadata": {},
   "outputs": [
    {
     "data": {
      "image/png": "[encoded data removed]",
      "text/plain": [
       "<Figure size 432x288 with 1 Axes>"
      ]
     },
     "metadata": {
      "needs_background": "light"
     },
     "output_type": "display_data"
    },
    {
     "data": {
      "text/plain": [
       "True"
      ]
     },
     "execution_count": 306,
     "metadata": {},
     "output_type": "execute_result"
    }
   ],
   "source": [
    "ocw_r1.making_scatter_warrow3dcross(aza['zz'], aza['yy'] ,[-6, 4])"
   ]
  },
  {
   "cell_type": "code",
   "execution_count": 307,
   "id": "79b098cb-5ce6-49fa-b2d6-8731c2a2e2d4",
   "metadata": {},
   "outputs": [
    {
     "data": {
      "text/plain": [
       "False"
      ]
     },
     "execution_count": 307,
     "metadata": {},
     "output_type": "execute_result"
    }
   ],
   "source": [
    "aza['zz'] == aza['yy']"
   ]
  },
  {
   "cell_type": "code",
   "execution_count": 311,
   "id": "e97297a5-2882-42a2-a228-a8d760b7fb23",
   "metadata": {},
   "outputs": [
    {
     "data": {
      "text/plain": [
       "array([[10, 20, 30],\n",
       "       [40, 50, 60],\n",
       "       [70, 80, 90]])"
      ]
     },
     "execution_count": 311,
     "metadata": {},
     "output_type": "execute_result"
    }
   ],
   "source": [
    "np.arange(1,10).reshape(3,3) * 10"
   ]
  },
  {
   "cell_type": "code",
   "execution_count": 319,
   "id": "b14b8408-a086-4012-bea3-f5c778821c39",
   "metadata": {},
   "outputs": [
    {
     "data": {
      "text/plain": [
       "array([[ 4,  2],\n",
       "       [15,  8]])"
      ]
     },
     "execution_count": 319,
     "metadata": {},
     "output_type": "execute_result"
    }
   ],
   "source": [
    "np.arange(1,5).reshape(2,2) * (np.array([4,1,5,2]).reshape(2,2))"
   ]
  },
  {
   "cell_type": "code",
   "execution_count": 321,
   "id": "634bab68-e3cb-4306-a5e2-611a139fd1dd",
   "metadata": {},
   "outputs": [],
   "source": [
    "A = np.arange(1,5).reshape(2,2)"
   ]
  },
  {
   "cell_type": "code",
   "execution_count": 323,
   "id": "a0a1c48f-c2db-4975-863f-f9cd4f71fb62",
   "metadata": {},
   "outputs": [
    {
     "data": {
      "text/plain": [
       "array([[1., 0.],\n",
       "       [0., 1.]])"
      ]
     },
     "execution_count": 323,
     "metadata": {},
     "output_type": "execute_result"
    }
   ],
   "source": [
    "np.linalg.inv(A).dot(A)"
   ]
  },
  {
   "cell_type": "code",
   "execution_count": null,
   "id": "4d7250d7-3e1f-4aaf-b13a-27bb59be515e",
   "metadata": {},
   "outputs": [],
   "source": []
  }
 ],
 "metadata": {
  "kernelspec": {
   "display_name": "Python 3 (ipykernel)",
   "language": "python",
   "name": "python3"
  },
  "language_info": {
   "codemirror_mode": {
    "name": "ipython",
    "version": 3
   },
   "file_extension": ".py",
   "mimetype": "text/x-python",
   "name": "python",
   "nbconvert_exporter": "python",
   "pygments_lexer": "ipython3",
   "version": "3.9.5"
  }
 },
 "nbformat": 4,
 "nbformat_minor": 5
}
