{
 "cells": [
  {
   "cell_type": "code",
   "execution_count": 2,
   "id": "d02f41e0-05e0-4989-9134-c83dae3f2879",
   "metadata": {},
   "outputs": [],
   "source": [
    "import numpy as np\n",
    "import pandas as pd\n",
    "import matplotlib.pyplot as plt\n",
    "# from Library.ocw_r1 import ocw_r1\n",
    "import imp\n",
    "import Library.ocw_r1 as ocw_r1\n",
    "imp.reload(ocw_r1)\n",
    "\n",
    "import sys\n",
    "np.set_printoptions(threshold = sys.maxsize)\n",
    "np.set_printoptions(linewidth = 80)\n",
    "\n",
    "import datetime"
   ]
  },
  {
   "cell_type": "code",
   "execution_count": 6,
   "id": "d4db0c08-de6a-4328-a3bb-aeb1a5467d60",
   "metadata": {},
   "outputs": [
    {
     "data": {
      "text/plain": [
       "datetime.timedelta(days=539)"
      ]
     },
     "execution_count": 6,
     "metadata": {},
     "output_type": "execute_result"
    }
   ],
   "source": [
    "day1 = datetime.date(2019, 12, 14);day1\n",
    "day2 = datetime.date(2021, 6, 5);day2\n",
    "diff = day2 - day1;diff"
   ]
  },
  {
   "cell_type": "code",
   "execution_count": null,
   "id": "625bb03a-57b6-4306-a056-32c4ddbc2a00",
   "metadata": {},
   "outputs": [],
   "source": []
  }
 ],
 "metadata": {
  "kernelspec": {
   "display_name": "Python 3 (ipykernel)",
   "language": "python",
   "name": "python3"
  },
  "language_info": {
   "codemirror_mode": {
    "name": "ipython",
    "version": 3
   },
   "file_extension": ".py",
   "mimetype": "text/x-python",
   "name": "python",
   "nbconvert_exporter": "python",
   "pygments_lexer": "ipython3",
   "version": "3.9.5"
  }
 },
 "nbformat": 4,
 "nbformat_minor": 5
}
