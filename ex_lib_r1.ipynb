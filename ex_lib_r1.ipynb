{
 "cells": [
  {
   "cell_type": "code",
   "execution_count": 1,
   "id": "43b430a1-c8e5-40bc-a59c-5013054ad36b",
   "metadata": {},
   "outputs": [],
   "source": [
    "import numpy as np\n",
    "import pandas as pd\n",
    "import matplotlib.pyplot as plt\n",
    "# from Library.ocw_r1 import ocw_r1\n",
    "import imp\n",
    "import Library.ocw_r1 as ocw_r1\n",
    "imp.reload(ocw_r1)\n",
    "\n",
    "import sys\n",
    "np.set_printoptions(threshold = sys.maxsize)\n",
    "np.set_printoptions(linewidth = 80)"
   ]
  },
  {
   "cell_type": "code",
   "execution_count": null,
   "id": "bcc0b5e4-a35e-4f34-876d-b5bde8a105eb",
   "metadata": {},
   "outputs": [],
   "source": []
  }
 ],
 "metadata": {
  "kernelspec": {
   "display_name": "Python 3 (ipykernel)",
   "language": "python",
   "name": "python3"
  },
  "language_info": {
   "codemirror_mode": {
    "name": "ipython",
    "version": 3
   },
   "file_extension": ".py",
   "mimetype": "text/x-python",
   "name": "python",
   "nbconvert_exporter": "python",
   "pygments_lexer": "ipython3",
   "version": "3.9.5"
  }
 },
 "nbformat": 4,
 "nbformat_minor": 5
}
